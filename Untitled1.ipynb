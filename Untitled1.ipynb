{
 "cells": [
  {
   "cell_type": "code",
   "execution_count": 1,
   "metadata": {},
   "outputs": [],
   "source": [
    "import pandas as pd\n",
    "import selenium\n",
    "from selenium import webdriver\n",
    "import time\n",
    "from selenium.common.exceptions import StaleElementReferenceException, NoSuchElementException\n",
    "import requests"
   ]
  },
  {
   "cell_type": "code",
   "execution_count": 2,
   "metadata": {},
   "outputs": [],
   "source": [
    "driver = webdriver.Chrome(r'C:\\Users\\rjhcl\\Desktop\\web driver\\chromedriver.exe')"
   ]
  },
  {
   "cell_type": "code",
   "execution_count": 3,
   "metadata": {},
   "outputs": [],
   "source": [
    "url = \"https://www.amazon.in/\"\n",
    "driver.get(url)"
   ]
  },
  {
   "cell_type": "code",
   "execution_count": 4,
   "metadata": {},
   "outputs": [],
   "source": [
    "input_ = driver.find_element_by_xpath(\"//input[@id='twotabsearchtextbox']\")\n",
    "input_.send_keys(\"sarees\")"
   ]
  },
  {
   "cell_type": "code",
   "execution_count": 5,
   "metadata": {},
   "outputs": [],
   "source": [
    "btn = driver.find_element_by_xpath(\"//input[@id='nav-search-submit-button']\").click()"
   ]
  },
  {
   "cell_type": "code",
   "execution_count": 6,
   "metadata": {},
   "outputs": [],
   "source": [
    "images_saree = []"
   ]
  },
  {
   "cell_type": "code",
   "execution_count": 7,
   "metadata": {},
   "outputs": [],
   "source": [
    "elements = driver.find_elements_by_xpath(\"//img[@class='s-image']\")\n",
    "for i in elements:\n",
    "    image = i.get_attribute('src')\n",
    "    images_saree.append(image)"
   ]
  },
  {
   "cell_type": "code",
   "execution_count": 8,
   "metadata": {},
   "outputs": [
    {
     "name": "stdout",
     "output_type": "stream",
     "text": [
      "this is the file name:41myrkqblNL._AC_UL320_.jpg\n",
      "this is the file name:510k8WYYWwL._AC_UL320_.jpg\n",
      "this is the file name:91wGuAmRIaL._AC_UL320_.jpg\n",
      "this is the file name:41gRJdFVDQL._AC_UL320_.jpg\n",
      "this is the file name:91GKFgnS5uL._AC_UL320_.jpg\n",
      "this is the file name:91qnmB-8ALL._AC_UL320_.jpg\n",
      "this is the file name:71MR2pLHrDL._AC_UL320_.jpg\n",
      "this is the file name:71qv4-LCeCL._AC_UL320_.jpg\n",
      "this is the file name:81j-y-KWb6L._AC_UL320_.jpg\n",
      "this is the file name:91NhFxRQe7L._AC_UL320_.jpg\n",
      "this is the file name:71SUNh9g6bL._AC_UL320_.jpg\n",
      "this is the file name:91ecd4QxIdS._AC_UL320_.jpg\n",
      "this is the file name:913Ch5MZ0aL._AC_UL320_.jpg\n",
      "this is the file name:91UN3kCM5HL._AC_UL320_.jpg\n",
      "this is the file name:912Q3BqVtpL._AC_UL320_.jpg\n",
      "this is the file name:91Zz5TqqRNL._AC_UL320_.jpg\n",
      "this is the file name:919Uu73NihL._AC_UL320_.jpg\n",
      "this is the file name:61fY+wiG9iL._AC_UL320_.jpg\n",
      "this is the file name:A1tFsM3g3vL._AC_UL320_.jpg\n",
      "this is the file name:91EY+8yxCbL._AC_UL320_.jpg\n",
      "this is the file name:71O4fDkQHVL._AC_UL320_.jpg\n",
      "this is the file name:619cbp-6mAL._AC_UL320_.jpg\n",
      "this is the file name:91jSrD-ItPL._AC_UL320_.jpg\n",
      "this is the file name:91ZXr8iTpaL._AC_UL320_.jpg\n",
      "this is the file name:91dDMDg+QTL._AC_UL320_.jpg\n",
      "this is the file name:710UYeqiESL._AC_UL320_.jpg\n",
      "this is the file name:71b-DWhUmRL._AC_UL320_.jpg\n",
      "this is the file name:31DlXSvfcvL._AC_UL320_.jpg\n",
      "this is the file name:81Ig9SI4MpL._AC_UL320_.jpg\n",
      "this is the file name:91HAgnw2CTL._AC_UL320_.jpg\n",
      "this is the file name:91FtMGNczVL._AC_UL320_.jpg\n",
      "this is the file name:81VkvH5Bw4L._AC_UL320_.jpg\n",
      "this is the file name:41tQ9yaOyfL._AC_UL320_.jpg\n",
      "this is the file name:61IHiMKwM+L._AC_UL320_.jpg\n",
      "this is the file name:710Gqx1n91L._AC_UL320_.jpg\n",
      "this is the file name:61fRQznxhfL._AC_UL320_.jpg\n",
      "this is the file name:81bQXUk7ApL._AC_UL320_.jpg\n",
      "this is the file name:51dNZrNrm8S._AC_UL320_.jpg\n",
      "this is the file name:91Na9t+MCNS._AC_UL320_.jpg\n",
      "this is the file name:91PMGYlzUcL._AC_UL320_.jpg\n",
      "this is the file name:81O2XtVe-UL._AC_UL320_.jpg\n",
      "this is the file name:61IZBo0KCqL._AC_UL320_.jpg\n",
      "this is the file name:61KfWI96i5L._AC_UL320_.jpg\n",
      "this is the file name:81Lwz9gb6JL._AC_UL320_.jpg\n",
      "this is the file name:71gcRJXAACL._AC_UL320_.jpg\n",
      "this is the file name:81VsWURBsFL._AC_UL320_.jpg\n",
      "this is the file name:918Ve93krwL._AC_UL320_.jpg\n",
      "this is the file name:91HAgnw2CTL._AC_UL320_.jpg\n",
      "this is the file name:81aBDW1cHwL._AC_UL320_.jpg\n",
      "this is the file name:91HfxEdbBJL._AC_UL320_.jpg\n",
      "this is the file name:619-hNvDr5L._AC_UL320_.jpg\n",
      "this is the file name:61l-6sfIruL._AC_UL320_.jpg\n",
      "this is the file name:81cpIQIXiaL._AC_UL320_.jpg\n",
      "this is the file name:71OfN6hYgcL._AC_UL320_.jpg\n",
      "this is the file name:81YW8x+p0wL._AC_UL320_.jpg\n",
      "this is the file name:41AhJq0JYHL._AC_UL320_.jpg\n",
      "this is the file name:71bPYleqiBL._AC_UL320_.jpg\n",
      "this is the file name:41rHBbET90L._AC_UL320_.jpg\n",
      "this is the file name:41PM88RX7iL._AC_UL320_.jpg\n",
      "this is the file name:519c-TVkTRL._AC_UL320_.jpg\n",
      "this is the file name:71PxoxOdekL._AC_UL320_.jpg\n",
      "this is the file name:81ryvI+bYtL._AC_UL320_.jpg\n",
      "this is the file name:916ROGKpL1L._AC_UL320_.jpg\n",
      "this is the file name:91aIn0qLLTL._AC_UL320_.jpg\n",
      "this is the file name:81XKaSKvlyL._AC_UL320_.jpg\n",
      "this is the file name:610SrEgE6cL._AC_UL320_.jpg\n",
      "this is the file name:919lNOaU-GL._AC_UL320_.jpg\n",
      "this is the file name:71v25XUM21L._AC_UL320_.jpg\n",
      "this is the file name:618k2G5bC2L._AC_UL320_.jpg\n",
      "this is the file name:81BV-npgPEL._AC_UL320_.jpg\n",
      "this is the file name:618dVIk4wLL._AC_UL320_.jpg\n",
      "this is the file name:81f0ZQp1TaL._AC_UL320_.jpg\n",
      "this is the file name:919P3mTMeYL._AC_UL320_.jpg\n",
      "this is the file name:91ebOG6QrtL._AC_UL320_.jpg\n",
      "this is the file name:810O93UchdL._AC_UL320_.jpg\n",
      "this is the file name:81ON182UnOL._AC_UL320_.jpg\n"
     ]
    }
   ],
   "source": [
    "for img in images_saree:\n",
    "    file_name = img.split('/')[-1]\n",
    "    print(f\"this is the file name:{file_name}\")\n",
    "    r = requests.get(img, stream=True)\n",
    "    if r.status_code == 200:\n",
    "        with open(file_name, 'wb') as f:\n",
    "            for chunk in r:\n",
    "                f.write(chunk)\n",
    "                \n",
    "    else:\n",
    "        print('')"
   ]
  },
  {
   "cell_type": "code",
   "execution_count": null,
   "metadata": {},
   "outputs": [],
   "source": []
  }
 ],
 "metadata": {
  "kernelspec": {
   "display_name": "Python 3",
   "language": "python",
   "name": "python3"
  },
  "language_info": {
   "codemirror_mode": {
    "name": "ipython",
    "version": 3
   },
   "file_extension": ".py",
   "mimetype": "text/x-python",
   "name": "python",
   "nbconvert_exporter": "python",
   "pygments_lexer": "ipython3",
   "version": "3.8.5"
  }
 },
 "nbformat": 4,
 "nbformat_minor": 4
}
